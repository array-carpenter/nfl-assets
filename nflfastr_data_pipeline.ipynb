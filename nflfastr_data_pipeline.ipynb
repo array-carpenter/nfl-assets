{
 "cells": [
  {
   "cell_type": "markdown",
   "id": "dc5c96d4",
   "metadata": {},
   "source": [
    "# nflfastR Data Pipeline\n",
    "\n",
    "Here's the ETL process I send every nflfastR file through to ensure it's easier to queri using SQL engines. This pipeline standardizes formats, eliminates unnecessary CASTs, etc."
   ]
  },
  {
   "cell_type": "code",
   "execution_count": 113,
   "id": "9cf2dfdc",
   "metadata": {},
   "outputs": [],
   "source": [
    "import polars as pl\n",
    "import duckdb\n",
    "\n",
    "YEAR = 1999\n",
    "\n",
    "df = pl.read_csv('https://github.com/nflverse/nflverse-data/releases/download/pbp/' \\\n",
    "                   'play_by_play_' + str(YEAR) + '.csv.gz',\n",
    "                   has_header=True,\n",
    "                   infer_schema_length = 10000)"
   ]
  },
  {
   "cell_type": "code",
   "execution_count": 114,
   "id": "0634d035",
   "metadata": {},
   "outputs": [
    {
     "name": "stdout",
     "output_type": "stream",
     "text": [
      "shape: (46_136, 372)\n",
      "┌─────────┬───────────────┬─────────────┬───────────┬───┬──────────────┬─────────┬───────┬─────────┐\n",
      "│ play_id ┆ game_id       ┆ old_game_id ┆ home_team ┆ … ┆ xyac_success ┆ xyac_fd ┆ xpass ┆ pass_oe │\n",
      "│ ---     ┆ ---           ┆ ---         ┆ ---       ┆   ┆ ---          ┆ ---     ┆ ---   ┆ ---     │\n",
      "│ i64     ┆ str           ┆ i64         ┆ str       ┆   ┆ str          ┆ str     ┆ str   ┆ str     │\n",
      "╞═════════╪═══════════════╪═════════════╪═══════════╪═══╪══════════════╪═════════╪═══════╪═════════╡\n",
      "│ 35      ┆ 1999_01_ARI_P ┆ 1999091200  ┆ PHI       ┆ … ┆ null         ┆ null    ┆ null  ┆ null    │\n",
      "│         ┆ HI            ┆             ┆           ┆   ┆              ┆         ┆       ┆         │\n",
      "│ 60      ┆ 1999_01_ARI_P ┆ 1999091200  ┆ PHI       ┆ … ┆ null         ┆ null    ┆ null  ┆ null    │\n",
      "│         ┆ HI            ┆             ┆           ┆   ┆              ┆         ┆       ┆         │\n",
      "│ 82      ┆ 1999_01_ARI_P ┆ 1999091200  ┆ PHI       ┆ … ┆ null         ┆ null    ┆ null  ┆ null    │\n",
      "│         ┆ HI            ┆             ┆           ┆   ┆              ┆         ┆       ┆         │\n",
      "│ 103     ┆ 1999_01_ARI_P ┆ 1999091200  ┆ PHI       ┆ … ┆ null         ┆ null    ┆ null  ┆ null    │\n",
      "│         ┆ HI            ┆             ┆           ┆   ┆              ┆         ┆       ┆         │\n",
      "│ …       ┆ …             ┆ …           ┆ …         ┆ … ┆ …            ┆ …       ┆ …     ┆ …       │\n",
      "│ 4056    ┆ 1999_21_STL_T ┆ 2000013000  ┆ TEN       ┆ … ┆ null         ┆ null    ┆ null  ┆ null    │\n",
      "│         ┆ EN            ┆             ┆           ┆   ┆              ┆         ┆       ┆         │\n",
      "│ 4080    ┆ 1999_21_STL_T ┆ 2000013000  ┆ TEN       ┆ … ┆ null         ┆ null    ┆ null  ┆ null    │\n",
      "│         ┆ EN            ┆             ┆           ┆   ┆              ┆         ┆       ┆         │\n",
      "│ 4097    ┆ 1999_21_STL_T ┆ 2000013000  ┆ TEN       ┆ … ┆ null         ┆ null    ┆ null  ┆ null    │\n",
      "│         ┆ EN            ┆             ┆           ┆   ┆              ┆         ┆       ┆         │\n",
      "│ 4121    ┆ 1999_21_STL_T ┆ 2000013000  ┆ TEN       ┆ … ┆ null         ┆ null    ┆ null  ┆ null    │\n",
      "│         ┆ EN            ┆             ┆           ┆   ┆              ┆         ┆       ┆         │\n",
      "└─────────┴───────────────┴─────────────┴───────────┴───┴──────────────┴─────────┴───────┴─────────┘\n",
      "{'play_id': Int64, 'game_id': Utf8, 'old_game_id': Int64, 'home_team': Utf8, 'away_team': Utf8, 'season_type': Utf8, 'week': Int64, 'posteam': Utf8, 'posteam_type': Utf8, 'defteam': Utf8, 'side_of_field': Utf8, 'yardline_100': Int64, 'game_date': Utf8, 'quarter_seconds_remaining': Int64, 'half_seconds_remaining': Int64, 'game_seconds_remaining': Int64, 'game_half': Utf8, 'quarter_end': Int64, 'drive': Int64, 'sp': Int64, 'qtr': Int64, 'down': Int64, 'goal_to_go': Int64, 'time': Utf8, 'yrdln': Utf8, 'ydstogo': Int64, 'ydsnet': Int64, 'desc': Utf8, 'play_type': Utf8, 'yards_gained': Int64, 'shotgun': Int64, 'no_huddle': Int64, 'qb_dropback': Int64, 'qb_kneel': Int64, 'qb_spike': Int64, 'qb_scramble': Int64, 'pass_length': Utf8, 'pass_location': Utf8, 'air_yards': Utf8, 'yards_after_catch': Int64, 'run_location': Utf8, 'run_gap': Utf8, 'field_goal_result': Utf8, 'kick_distance': Int64, 'extra_point_result': Utf8, 'two_point_conv_result': Utf8, 'home_timeouts_remaining': Int64, 'away_timeouts_remaining': Int64, 'timeout': Int64, 'timeout_team': Utf8, 'td_team': Utf8, 'td_player_name': Utf8, 'td_player_id': Utf8, 'posteam_timeouts_remaining': Int64, 'defteam_timeouts_remaining': Int64, 'total_home_score': Int64, 'total_away_score': Int64, 'posteam_score': Int64, 'defteam_score': Int64, 'score_differential': Int64, 'posteam_score_post': Int64, 'defteam_score_post': Int64, 'score_differential_post': Int64, 'no_score_prob': Float64, 'opp_fg_prob': Float64, 'opp_safety_prob': Float64, 'opp_td_prob': Float64, 'fg_prob': Float64, 'safety_prob': Float64, 'td_prob': Float64, 'extra_point_prob': Float64, 'two_point_conversion_prob': Float64, 'ep': Float64, 'epa': Float64, 'total_home_epa': Float64, 'total_away_epa': Float64, 'total_home_rush_epa': Float64, 'total_away_rush_epa': Float64, 'total_home_pass_epa': Float64, 'total_away_pass_epa': Float64, 'air_epa': Utf8, 'yac_epa': Utf8, 'comp_air_epa': Utf8, 'comp_yac_epa': Utf8, 'total_home_comp_air_epa': Utf8, 'total_away_comp_air_epa': Utf8, 'total_home_comp_yac_epa': Utf8, 'total_away_comp_yac_epa': Utf8, 'total_home_raw_air_epa': Utf8, 'total_away_raw_air_epa': Utf8, 'total_home_raw_yac_epa': Utf8, 'total_away_raw_yac_epa': Utf8, 'wp': Float64, 'def_wp': Float64, 'home_wp': Float64, 'away_wp': Float64, 'wpa': Float64, 'vegas_wpa': Float64, 'vegas_home_wpa': Float64, 'home_wp_post': Float64, 'away_wp_post': Float64, 'vegas_wp': Float64, 'vegas_home_wp': Float64, 'total_home_rush_wpa': Float64, 'total_away_rush_wpa': Float64, 'total_home_pass_wpa': Float64, 'total_away_pass_wpa': Float64, 'air_wpa': Utf8, 'yac_wpa': Utf8, 'comp_air_wpa': Utf8, 'comp_yac_wpa': Utf8, 'total_home_comp_air_wpa': Utf8, 'total_away_comp_air_wpa': Utf8, 'total_home_comp_yac_wpa': Utf8, 'total_away_comp_yac_wpa': Utf8, 'total_home_raw_air_wpa': Utf8, 'total_away_raw_air_wpa': Utf8, 'total_home_raw_yac_wpa': Utf8, 'total_away_raw_yac_wpa': Utf8, 'punt_blocked': Int64, 'first_down_rush': Int64, 'first_down_pass': Int64, 'first_down_penalty': Int64, 'third_down_converted': Int64, 'third_down_failed': Int64, 'fourth_down_converted': Int64, 'fourth_down_failed': Int64, 'incomplete_pass': Int64, 'touchback': Int64, 'interception': Int64, 'punt_inside_twenty': Int64, 'punt_in_endzone': Int64, 'punt_out_of_bounds': Int64, 'punt_downed': Int64, 'punt_fair_catch': Int64, 'kickoff_inside_twenty': Int64, 'kickoff_in_endzone': Int64, 'kickoff_out_of_bounds': Int64, 'kickoff_downed': Int64, 'kickoff_fair_catch': Int64, 'fumble_forced': Int64, 'fumble_not_forced': Int64, 'fumble_out_of_bounds': Int64, 'solo_tackle': Int64, 'safety': Int64, 'penalty': Int64, 'tackled_for_loss': Int64, 'fumble_lost': Int64, 'own_kickoff_recovery': Int64, 'own_kickoff_recovery_td': Int64, 'qb_hit': Int64, 'rush_attempt': Int64, 'pass_attempt': Int64, 'sack': Int64, 'touchdown': Int64, 'pass_touchdown': Int64, 'rush_touchdown': Int64, 'return_touchdown': Int64, 'extra_point_attempt': Int64, 'two_point_attempt': Int64, 'field_goal_attempt': Int64, 'kickoff_attempt': Int64, 'punt_attempt': Int64, 'fumble': Int64, 'complete_pass': Int64, 'assist_tackle': Int64, 'lateral_reception': Int64, 'lateral_rush': Int64, 'lateral_return': Int64, 'lateral_recovery': Int64, 'passer_player_id': Utf8, 'passer_player_name': Utf8, 'passing_yards': Int64, 'receiver_player_id': Utf8, 'receiver_player_name': Utf8, 'receiving_yards': Int64, 'rusher_player_id': Utf8, 'rusher_player_name': Utf8, 'rushing_yards': Int64, 'lateral_receiver_player_id': Utf8, 'lateral_receiver_player_name': Utf8, 'lateral_receiving_yards': Int64, 'lateral_rusher_player_id': Utf8, 'lateral_rusher_player_name': Utf8, 'lateral_rushing_yards': Utf8, 'lateral_sack_player_id': Utf8, 'lateral_sack_player_name': Utf8, 'interception_player_id': Utf8, 'interception_player_name': Utf8, 'lateral_interception_player_id': Utf8, 'lateral_interception_player_name': Utf8, 'punt_returner_player_id': Utf8, 'punt_returner_player_name': Utf8, 'lateral_punt_returner_player_id': Utf8, 'lateral_punt_returner_player_name': Utf8, 'kickoff_returner_player_name': Utf8, 'kickoff_returner_player_id': Utf8, 'lateral_kickoff_returner_player_id': Utf8, 'lateral_kickoff_returner_player_name': Utf8, 'punter_player_id': Utf8, 'punter_player_name': Utf8, 'kicker_player_name': Utf8, 'kicker_player_id': Utf8, 'own_kickoff_recovery_player_id': Utf8, 'own_kickoff_recovery_player_name': Utf8, 'blocked_player_id': Utf8, 'blocked_player_name': Utf8, 'tackle_for_loss_1_player_id': Utf8, 'tackle_for_loss_1_player_name': Utf8, 'tackle_for_loss_2_player_id': Utf8, 'tackle_for_loss_2_player_name': Utf8, 'qb_hit_1_player_id': Utf8, 'qb_hit_1_player_name': Utf8, 'qb_hit_2_player_id': Utf8, 'qb_hit_2_player_name': Utf8, 'forced_fumble_player_1_team': Utf8, 'forced_fumble_player_1_player_id': Utf8, 'forced_fumble_player_1_player_name': Utf8, 'forced_fumble_player_2_team': Utf8, 'forced_fumble_player_2_player_id': Utf8, 'forced_fumble_player_2_player_name': Utf8, 'solo_tackle_1_team': Utf8, 'solo_tackle_2_team': Utf8, 'solo_tackle_1_player_id': Utf8, 'solo_tackle_2_player_id': Utf8, 'solo_tackle_1_player_name': Utf8, 'solo_tackle_2_player_name': Utf8, 'assist_tackle_1_player_id': Utf8, 'assist_tackle_1_player_name': Utf8, 'assist_tackle_1_team': Utf8, 'assist_tackle_2_player_id': Utf8, 'assist_tackle_2_player_name': Utf8, 'assist_tackle_2_team': Utf8, 'assist_tackle_3_player_id': Utf8, 'assist_tackle_3_player_name': Utf8, 'assist_tackle_3_team': Utf8, 'assist_tackle_4_player_id': Utf8, 'assist_tackle_4_player_name': Utf8, 'assist_tackle_4_team': Utf8, 'tackle_with_assist': Int64, 'tackle_with_assist_1_player_id': Utf8, 'tackle_with_assist_1_player_name': Utf8, 'tackle_with_assist_1_team': Utf8, 'tackle_with_assist_2_player_id': Utf8, 'tackle_with_assist_2_player_name': Utf8, 'tackle_with_assist_2_team': Utf8, 'pass_defense_1_player_id': Utf8, 'pass_defense_1_player_name': Utf8, 'pass_defense_2_player_id': Utf8, 'pass_defense_2_player_name': Utf8, 'fumbled_1_team': Utf8, 'fumbled_1_player_id': Utf8, 'fumbled_1_player_name': Utf8, 'fumbled_2_player_id': Utf8, 'fumbled_2_player_name': Utf8, 'fumbled_2_team': Utf8, 'fumble_recovery_1_team': Utf8, 'fumble_recovery_1_yards': Int64, 'fumble_recovery_1_player_id': Utf8, 'fumble_recovery_1_player_name': Utf8, 'fumble_recovery_2_team': Utf8, 'fumble_recovery_2_yards': Utf8, 'fumble_recovery_2_player_id': Utf8, 'fumble_recovery_2_player_name': Utf8, 'sack_player_id': Utf8, 'sack_player_name': Utf8, 'half_sack_1_player_id': Utf8, 'half_sack_1_player_name': Utf8, 'half_sack_2_player_id': Utf8, 'half_sack_2_player_name': Utf8, 'return_team': Utf8, 'return_yards': Int64, 'penalty_team': Utf8, 'penalty_player_id': Utf8, 'penalty_player_name': Utf8, 'penalty_yards': Int64, 'replay_or_challenge': Int64, 'replay_or_challenge_result': Utf8, 'penalty_type': Utf8, 'defensive_two_point_attempt': Int64, 'defensive_two_point_conv': Int64, 'defensive_extra_point_attempt': Int64, 'defensive_extra_point_conv': Int64, 'safety_player_name': Utf8, 'safety_player_id': Utf8, 'season': Int64, 'cp': Utf8, 'cpoe': Utf8, 'series': Int64, 'series_success': Int64, 'series_result': Utf8, 'order_sequence': Utf8, 'start_time': Utf8, 'time_of_day': Utf8, 'stadium': Utf8, 'weather': Utf8, 'nfl_api_id': Utf8, 'play_clock': Utf8, 'play_deleted': Utf8, 'play_type_nfl': Utf8, 'special_teams_play': Utf8, 'st_play_type': Utf8, 'end_clock_time': Utf8, 'end_yard_line': Utf8, 'fixed_drive': Int64, 'fixed_drive_result': Utf8, 'drive_real_start_time': Utf8, 'drive_play_count': Int64, 'drive_time_of_possession': Utf8, 'drive_first_downs': Int64, 'drive_inside20': Int64, 'drive_ended_with_score': Int64, 'drive_quarter_start': Int64, 'drive_quarter_end': Int64, 'drive_yards_penalized': Utf8, 'drive_start_transition': Utf8, 'drive_end_transition': Utf8, 'drive_game_clock_start': Utf8, 'drive_game_clock_end': Utf8, 'drive_start_yard_line': Utf8, 'drive_end_yard_line': Utf8, 'drive_play_id_started': Int64, 'drive_play_id_ended': Int64, 'away_score': Int64, 'home_score': Int64, 'location': Utf8, 'result': Int64, 'total': Int64, 'spread_line': Float64, 'total_line': Float64, 'div_game': Int64, 'roof': Utf8, 'surface': Utf8, 'temp': Int64, 'wind': Int64, 'home_coach': Utf8, 'away_coach': Utf8, 'stadium_id': Utf8, 'game_stadium': Utf8, 'aborted_play': Int64, 'success': Int64, 'passer': Utf8, 'passer_jersey_number': Utf8, 'rusher': Utf8, 'rusher_jersey_number': Utf8, 'receiver': Utf8, 'receiver_jersey_number': Utf8, 'pass': Int64, 'rush': Int64, 'first_down': Int64, 'special': Int64, 'play': Int64, 'passer_id': Utf8, 'rusher_id': Utf8, 'receiver_id': Utf8, 'name': Utf8, 'jersey_number': Utf8, 'id': Utf8, 'fantasy_player_name': Utf8, 'fantasy_player_id': Utf8, 'fantasy': Utf8, 'fantasy_id': Utf8, 'out_of_bounds': Int64, 'home_opening_kickoff': Int64, 'qb_epa': Float64, 'xyac_epa': Utf8, 'xyac_mean_yardage': Utf8, 'xyac_median_yardage': Utf8, 'xyac_success': Utf8, 'xyac_fd': Utf8, 'xpass': Utf8, 'pass_oe': Utf8}\n",
      "[Int64, Utf8, Int64, Utf8, Utf8, Utf8, Int64, Utf8, Utf8, Utf8, Utf8, Int64, Utf8, Int64, Int64, Int64, Utf8, Int64, Int64, Int64, Int64, Int64, Int64, Utf8, Utf8, Int64, Int64, Utf8, Utf8, Int64, Int64, Int64, Int64, Int64, Int64, Int64, Utf8, Utf8, Utf8, Int64, Utf8, Utf8, Utf8, Int64, Utf8, Utf8, Int64, Int64, Int64, Utf8, Utf8, Utf8, Utf8, Int64, Int64, Int64, Int64, Int64, Int64, Int64, Int64, Int64, Int64, Float64, Float64, Float64, Float64, Float64, Float64, Float64, Float64, Float64, Float64, Float64, Float64, Float64, Float64, Float64, Float64, Float64, Utf8, Utf8, Utf8, Utf8, Utf8, Utf8, Utf8, Utf8, Utf8, Utf8, Utf8, Utf8, Float64, Float64, Float64, Float64, Float64, Float64, Float64, Float64, Float64, Float64, Float64, Float64, Float64, Float64, Float64, Utf8, Utf8, Utf8, Utf8, Utf8, Utf8, Utf8, Utf8, Utf8, Utf8, Utf8, Utf8, Int64, Int64, Int64, Int64, Int64, Int64, Int64, Int64, Int64, Int64, Int64, Int64, Int64, Int64, Int64, Int64, Int64, Int64, Int64, Int64, Int64, Int64, Int64, Int64, Int64, Int64, Int64, Int64, Int64, Int64, Int64, Int64, Int64, Int64, Int64, Int64, Int64, Int64, Int64, Int64, Int64, Int64, Int64, Int64, Int64, Int64, Int64, Int64, Int64, Int64, Int64, Utf8, Utf8, Int64, Utf8, Utf8, Int64, Utf8, Utf8, Int64, Utf8, Utf8, Int64, Utf8, Utf8, Utf8, Utf8, Utf8, Utf8, Utf8, Utf8, Utf8, Utf8, Utf8, Utf8, Utf8, Utf8, Utf8, Utf8, Utf8, Utf8, Utf8, Utf8, Utf8, Utf8, Utf8, Utf8, Utf8, Utf8, Utf8, Utf8, Utf8, Utf8, Utf8, Utf8, Utf8, Utf8, Utf8, Utf8, Utf8, Utf8, Utf8, Utf8, Utf8, Utf8, Utf8, Utf8, Utf8, Utf8, Utf8, Utf8, Utf8, Utf8, Utf8, Utf8, Utf8, Utf8, Utf8, Utf8, Utf8, Int64, Utf8, Utf8, Utf8, Utf8, Utf8, Utf8, Utf8, Utf8, Utf8, Utf8, Utf8, Utf8, Utf8, Utf8, Utf8, Utf8, Utf8, Int64, Utf8, Utf8, Utf8, Utf8, Utf8, Utf8, Utf8, Utf8, Utf8, Utf8, Utf8, Utf8, Utf8, Int64, Utf8, Utf8, Utf8, Int64, Int64, Utf8, Utf8, Int64, Int64, Int64, Int64, Utf8, Utf8, Int64, Utf8, Utf8, Int64, Int64, Utf8, Utf8, Utf8, Utf8, Utf8, Utf8, Utf8, Utf8, Utf8, Utf8, Utf8, Utf8, Utf8, Utf8, Int64, Utf8, Utf8, Int64, Utf8, Int64, Int64, Int64, Int64, Int64, Utf8, Utf8, Utf8, Utf8, Utf8, Utf8, Utf8, Int64, Int64, Int64, Int64, Utf8, Int64, Int64, Float64, Float64, Int64, Utf8, Utf8, Int64, Int64, Utf8, Utf8, Utf8, Utf8, Int64, Int64, Utf8, Utf8, Utf8, Utf8, Utf8, Utf8, Int64, Int64, Int64, Int64, Int64, Utf8, Utf8, Utf8, Utf8, Utf8, Utf8, Utf8, Utf8, Utf8, Utf8, Int64, Int64, Float64, Utf8, Utf8, Utf8, Utf8, Utf8, Utf8, Utf8]\n"
     ]
    }
   ],
   "source": [
    "print(df)\n",
    "print(df.schema)\n",
    "print(df.dtypes)"
   ]
  },
  {
   "cell_type": "code",
   "execution_count": 115,
   "id": "608e7359",
   "metadata": {},
   "outputs": [],
   "source": [
    "full = df.sort([\"game_id\", \"play_id\"]).unique(subset=[\"game_id\", \"play_id\"], keep=\"last\")"
   ]
  },
  {
   "cell_type": "code",
   "execution_count": 116,
   "id": "4457edd8",
   "metadata": {},
   "outputs": [],
   "source": [
    "full.write_parquet(\n",
    "    f\"nflfastR_cleaned/pbp_{YEAR}_full.parquet\",\n",
    "    compression=\"zstd\",\n",
    "    statistics=True\n",
    ")\n"
   ]
  },
  {
   "cell_type": "code",
   "execution_count": 117,
   "id": "8ce6c2e2",
   "metadata": {},
   "outputs": [
    {
     "name": "stderr",
     "output_type": "stream",
     "text": [
      "<>:8: SyntaxWarning: invalid escape sequence '\\p'\n",
      "<>:8: SyntaxWarning: invalid escape sequence '\\p'\n",
      "C:\\Users\\RaymondCarpenter\\AppData\\Local\\Temp\\ipykernel_19768\\3604039247.py:8: SyntaxWarning: invalid escape sequence '\\p'\n",
      "  \"\"\")\n"
     ]
    },
    {
     "name": "stdout",
     "output_type": "stream",
     "text": [
      "shape: (5, 372)\n",
      "┌─────────┬───────────────┬─────────────┬───────────┬───┬──────────────┬─────────┬───────┬─────────┐\n",
      "│ play_id ┆ game_id       ┆ old_game_id ┆ home_team ┆ … ┆ xyac_success ┆ xyac_fd ┆ xpass ┆ pass_oe │\n",
      "│ ---     ┆ ---           ┆ ---         ┆ ---       ┆   ┆ ---          ┆ ---     ┆ ---   ┆ ---     │\n",
      "│ i64     ┆ str           ┆ i64         ┆ str       ┆   ┆ str          ┆ str     ┆ str   ┆ str     │\n",
      "╞═════════╪═══════════════╪═════════════╪═══════════╪═══╪══════════════╪═════════╪═══════╪═════════╡\n",
      "│ 176     ┆ 1999_01_ARI_P ┆ 1999091200  ┆ PHI       ┆ … ┆ null         ┆ null    ┆ null  ┆ null    │\n",
      "│         ┆ HI            ┆             ┆           ┆   ┆              ┆         ┆       ┆         │\n",
      "│ 281     ┆ 1999_01_ARI_P ┆ 1999091200  ┆ PHI       ┆ … ┆ null         ┆ null    ┆ null  ┆ null    │\n",
      "│         ┆ HI            ┆             ┆           ┆   ┆              ┆         ┆       ┆         │\n",
      "│ 305     ┆ 1999_01_ARI_P ┆ 1999091200  ┆ PHI       ┆ … ┆ null         ┆ null    ┆ null  ┆ null    │\n",
      "│         ┆ HI            ┆             ┆           ┆   ┆              ┆         ┆       ┆         │\n",
      "│ 581     ┆ 1999_01_ARI_P ┆ 1999091200  ┆ PHI       ┆ … ┆ null         ┆ null    ┆ null  ┆ null    │\n",
      "│         ┆ HI            ┆             ┆           ┆   ┆              ┆         ┆       ┆         │\n",
      "│ 693     ┆ 1999_01_ARI_P ┆ 1999091200  ┆ PHI       ┆ … ┆ null         ┆ null    ┆ null  ┆ null    │\n",
      "│         ┆ HI            ┆             ┆           ┆   ┆              ┆         ┆       ┆         │\n",
      "└─────────┴───────────────┴─────────────┴───────────┴───┴──────────────┴─────────┴───────┴─────────┘\n"
     ]
    }
   ],
   "source": [
    "import duckdb\n",
    "\n",
    "con = duckdb.connect(\"pbp.duckdb\")\n",
    "\n",
    "con.execute(f\"\"\"\n",
    "    CREATE OR REPLACE TABLE pbp_plays AS\n",
    "    SELECT * FROM read_parquet('nflfastR_cleaned\\pbp_{YEAR}_full.parquet');\n",
    "\"\"\")\n",
    "\n",
    "df_preview = con.execute(\"SELECT * FROM pbp_plays LIMIT 5\").pl()\n",
    "\n",
    "con.close()\n",
    "\n",
    "print(df_preview)"
   ]
  },
  {
   "cell_type": "code",
   "execution_count": null,
   "id": "6331c053",
   "metadata": {},
   "outputs": [],
   "source": []
  },
  {
   "cell_type": "code",
   "execution_count": null,
   "id": "71338e96",
   "metadata": {},
   "outputs": [],
   "source": []
  },
  {
   "cell_type": "code",
   "execution_count": null,
   "id": "3f7e0596",
   "metadata": {},
   "outputs": [],
   "source": []
  }
 ],
 "metadata": {
  "kernelspec": {
   "display_name": "Python 3",
   "language": "python",
   "name": "python3"
  },
  "language_info": {
   "codemirror_mode": {
    "name": "ipython",
    "version": 3
   },
   "file_extension": ".py",
   "mimetype": "text/x-python",
   "name": "python",
   "nbconvert_exporter": "python",
   "pygments_lexer": "ipython3",
   "version": "3.12.5"
  }
 },
 "nbformat": 4,
 "nbformat_minor": 5
}
